{
 "cells": [
  {
   "cell_type": "code",
   "execution_count": null,
   "id": "d3735691",
   "metadata": {},
   "outputs": [],
   "source": [
    "import pandas as pd\n",
    "import pickle\n",
    "\n",
    "# Define the cube number\n",
    "cube = 5\n",
    "\n",
    "# Load final_data_list\n",
    "with open(f'./Data/final_data_list_cube_{cube}.pkl', 'rb') as f:\n",
    "    final_data_list = pickle.load(f)\n",
    "\n",
    "# Define the path to the Excel file\n",
    "excel_path = './Parameters.xlsx'  \n",
    "\n",
    "# Define the page to be used\n",
    "sheet_name = f\"Cube {cube}\"\n",
    "\n",
    "# Try to read the Excel file into a DataFrame\n",
    "try:\n",
    "    df_conditions = pd.read_excel(excel_path, sheet_name=sheet_name)\n",
    "    print(\"Successfully read the Excel file.\")\n",
    "except Exception as e:\n",
    "    print(f\"An error occurred: {e}\")\n",
    "\n",
    "# Display the DataFrame and some dimensions of the arrays\n",
    "df_conditions.head(), len(final_data_list), final_data_list[0].shape if final_data_list else None\n"
   ]
  },
  {
   "cell_type": "code",
   "execution_count": null,
   "id": "f9ec8cfb",
   "metadata": {},
   "outputs": [],
   "source": [
    "df_conditions"
   ]
  },
  {
   "cell_type": "code",
   "execution_count": null,
   "id": "c4138e62",
   "metadata": {},
   "outputs": [],
   "source": [
    "# Import numpy for calculations\n",
    "import numpy as np\n",
    "\n",
    "# Initializing a list to store the final average values for each condition\n",
    "averages = []\n",
    "\n",
    "# Looping over each condition in final_data_list\n",
    "for data in final_data_list:\n",
    "    # Removing the first two lines (reducing from 10 to 8 lines)\n",
    "    reduced_data = data[:, 2:, :]\n",
    "\n",
    "    # Removing the last 10% of each line\n",
    "    cut_length = int(reduced_data.shape[2] * 0.9)\n",
    "    reduced_data = reduced_data[:, :, :cut_length]\n",
    "\n",
    "    # Calculating the median line \n",
    "    median_line = np.median(reduced_data, axis=1)\n",
    "\n",
    "    # Calculating the average (reducing from (2, 1, N) to (2, 1, 1))\n",
    "    average_values = np.mean(median_line, axis=1).reshape(2, 1)\n",
    "\n",
    "    # Appending the average values to the list\n",
    "    averages.append(average_values)\n",
    "\n",
    "# Converting the list of averages to a numpy array for easier handling\n",
    "averages_array = np.array(averages)\n",
    "\n",
    "# Creating new columns in the DataFrame for the average values of each channel\n",
    "df_conditions['Average Optical Emission'] = averages_array[:, 0, 0]\n",
    "df_conditions['Average Optical Reflection'] = averages_array[:, 1, 0]\n",
    "\n",
    "# Displaying the updated DataFrame\n",
    "df_conditions.head()\n"
   ]
  },
  {
   "cell_type": "code",
   "execution_count": null,
   "id": "2603ed87",
   "metadata": {},
   "outputs": [],
   "source": [
    "max_OE = np.max(df_conditions['Average Optical Emission'].values)\n",
    "max_OR = np.max(df_conditions['Average Optical Reflection'].values)\n",
    "\n",
    "min_OE = np.min(df_conditions['Average Optical Emission'].values)\n",
    "min_OR = np.min(df_conditions['Average Optical Reflection'].values)\n"
   ]
  },
  {
   "cell_type": "code",
   "execution_count": null,
   "id": "c2e25ef9",
   "metadata": {},
   "outputs": [],
   "source": [
    "df_conditions['Norm Optical Emission'] = (df_conditions['Average Optical Emission'].values - min_OE)/(max_OE - min_OE)*2-1\n",
    "df_conditions['Norm Optical Reflection'] = (df_conditions['Average Optical Reflection'].values - min_OR)/(max_OR - min_OR)*2-1"
   ]
  },
  {
   "cell_type": "code",
   "execution_count": null,
   "id": "b1746fa9",
   "metadata": {},
   "outputs": [],
   "source": [
    "df_conditions"
   ]
  },
  {
   "cell_type": "code",
   "execution_count": null,
   "id": "a09e34b7",
   "metadata": {},
   "outputs": [],
   "source": [
    "# Creating a database\n",
    "X = np.stack([df_conditions['Norm Optical Emission'].values, df_conditions['Norm Optical Reflection'].values]).reshape(X.shape[1], X.shape[0])\n",
    "X.shape"
   ]
  },
  {
   "cell_type": "code",
   "execution_count": null,
   "id": "f5731e43",
   "metadata": {},
   "outputs": [],
   "source": [
    "X[:, 0].shape, X[:, 1].shape"
   ]
  },
  {
   "cell_type": "code",
   "execution_count": null,
   "id": "f3e3c1ef",
   "metadata": {},
   "outputs": [],
   "source": [
    "OE_OR = X[:, 0] * X[:, 1]\n",
    "OE_OR.shape"
   ]
  },
  {
   "cell_type": "code",
   "execution_count": null,
   "id": "8938ab0e",
   "metadata": {},
   "outputs": [],
   "source": [
    "OE_2 = X[:, 0] ** 2\n",
    "OE_2.shape"
   ]
  },
  {
   "cell_type": "code",
   "execution_count": null,
   "id": "083f4a76",
   "metadata": {},
   "outputs": [],
   "source": [
    "OR_2 = X[:, 1] ** 2\n",
    "OR_2.shape"
   ]
  },
  {
   "cell_type": "code",
   "execution_count": null,
   "id": "522b28f6",
   "metadata": {},
   "outputs": [],
   "source": [
    "# Preparing the data for polynomial regression\n",
    "# Adding squared terms and interaction term\n",
    "X_poly = np.hstack((\n",
    "    X[:, 0].reshape(-1,1),\n",
    "    X[:, 1].reshape(-1,1),\n",
    "    OE_OR.reshape(-1,1),  # OE*OR interaction\n",
    "    OE_2.reshape(-1,1),  # OE^2\n",
    "    OR_2.reshape(-1,1)   # OR^2\n",
    "))\n",
    "\n",
    "X_poly.shape\n"
   ]
  },
  {
   "cell_type": "code",
   "execution_count": null,
   "id": "9326fccf",
   "metadata": {},
   "outputs": [],
   "source": [
    "# Define the target \n",
    "y = df_conditions['Surface Area']\n",
    "\n",
    "y.shape"
   ]
  },
  {
   "cell_type": "code",
   "execution_count": null,
   "id": "2a3fb2ce",
   "metadata": {},
   "outputs": [],
   "source": [
    "from sklearn import linear_model\n",
    "\n",
    "\n",
    "# Training the linear regression model on the polynomial features\n",
    "model = linear_model.LinearRegression()\n",
    "model.fit(X_poly, y)\n",
    "\n",
    "# Coefficients for the linear, interaction, and squared terms\n",
    "coefficients = [model.intercept_] + list(model.coef_)\n",
    "\n",
    "coefficients"
   ]
  },
  {
   "cell_type": "code",
   "execution_count": null,
   "id": "ce9ac645",
   "metadata": {},
   "outputs": [],
   "source": [
    "# Mean error in train\n",
    "np.mean((model.predict(X_poly) - y)**2)"
   ]
  },
  {
   "cell_type": "code",
   "execution_count": null,
   "id": "a1e84565",
   "metadata": {},
   "outputs": [],
   "source": [
    "# R2\n",
    "model.score(X_poly, y)"
   ]
  },
  {
   "cell_type": "code",
   "execution_count": null,
   "id": "e6b84bf1",
   "metadata": {},
   "outputs": [],
   "source": [
    "import matplotlib.pyplot as plt \n",
    "\n",
    "plt.plot(model.predict(X_poly))\n",
    "plt.plot(y) "
   ]
  },
  {
   "cell_type": "code",
   "execution_count": null,
   "id": "49edbd96",
   "metadata": {},
   "outputs": [],
   "source": []
  },
  {
   "cell_type": "code",
   "execution_count": null,
   "id": "82f98017",
   "metadata": {},
   "outputs": [],
   "source": []
  },
  {
   "cell_type": "code",
   "execution_count": null,
   "id": "a46a2267",
   "metadata": {},
   "outputs": [],
   "source": []
  },
  {
   "cell_type": "code",
   "execution_count": null,
   "id": "0fe79eeb",
   "metadata": {},
   "outputs": [],
   "source": []
  },
  {
   "cell_type": "code",
   "execution_count": null,
   "id": "ceaa4e40",
   "metadata": {},
   "outputs": [],
   "source": []
  },
  {
   "cell_type": "code",
   "execution_count": null,
   "id": "0277f95d",
   "metadata": {},
   "outputs": [],
   "source": []
  },
  {
   "cell_type": "code",
   "execution_count": null,
   "id": "ea645f39",
   "metadata": {},
   "outputs": [],
   "source": []
  },
  {
   "cell_type": "code",
   "execution_count": null,
   "id": "64942927",
   "metadata": {},
   "outputs": [],
   "source": []
  },
  {
   "cell_type": "code",
   "execution_count": null,
   "id": "ac884e7f",
   "metadata": {},
   "outputs": [],
   "source": [
    "# Mapping each condition to its corresponding array in final_data_list\n",
    "condition_to_array_map = {condition: array for condition, array in zip(df_conditions['#'], final_data_list)}\n",
    "condition_to_array_map"
   ]
  },
  {
   "cell_type": "code",
   "execution_count": null,
   "id": "6eecd14a",
   "metadata": {},
   "outputs": [],
   "source": [
    "condition_to_array_map[2].shape"
   ]
  },
  {
   "cell_type": "code",
   "execution_count": null,
   "id": "97080c49",
   "metadata": {},
   "outputs": [],
   "source": [
    "channels = ['Optical Emission', 'Optical Reflection']"
   ]
  },
  {
   "cell_type": "code",
   "execution_count": null,
   "id": "979c8992",
   "metadata": {},
   "outputs": [],
   "source": [
    "# Identifying conditions with the same power but different speeds\n",
    "grouped_by_power = df_conditions.groupby('Powers (W)')\n",
    "\n",
    "# Dictionary to store conditions with the same power but different speeds\n",
    "conditions_same_power_diff_speed = {}\n",
    "\n",
    "for power, group in grouped_by_power:\n",
    "    unique_speeds = group['Speed (mm/s)'].nunique()\n",
    "    if unique_speeds > 1:\n",
    "        conditions_same_power_diff_speed[power] = group['#'].tolist()\n",
    "\n",
    "conditions_same_power_diff_speed\n"
   ]
  },
  {
   "cell_type": "code",
   "execution_count": null,
   "id": "1a3749c2",
   "metadata": {},
   "outputs": [],
   "source": [
    "# Sorting the conditions by speed for each power level\n",
    "sorted_conditions_by_speed = {power: sorted(conditions, key=lambda x: df_conditions[df_conditions['#'] == x]['Speed (mm/s)'].iloc[0]) for power, conditions in conditions_same_power_diff_speed.items()}\n",
    "\n",
    "sorted_conditions_by_speed"
   ]
  },
  {
   "cell_type": "code",
   "execution_count": null,
   "id": "47d15d93",
   "metadata": {},
   "outputs": [],
   "source": [
    "import numpy as np \n",
    "# Initialize dictionaries to store mean and standard deviation results\n",
    "mean_std_results = {}\n",
    "\n",
    "# Loop through each power level and its corresponding sorted conditions\n",
    "for power in sorted_conditions_by_speed.keys():\n",
    "    mean_std_results[power] = {'Optical Emission': [], 'Optical Reflection': []}\n",
    "    \n",
    "    # Loop through each channel\n",
    "    for channel_idx, channel in enumerate(['Optical Emission', 'Optical Reflection']):\n",
    "        conditions = sorted_conditions_by_speed[power]\n",
    "        \n",
    "        # Loop through each condition to collect data\n",
    "        for condition in conditions:\n",
    "            array_data = condition_to_array_map[condition]\n",
    "            \n",
    "            # Trim data to remove last 10% from each line\n",
    "            array_data_trimmed = array_data[channel_idx, :, :int(array_data.shape[2]*.9)]\n",
    "            \n",
    "            # Compute the mean line\n",
    "            array_mean_line = np.mean(array_data_trimmed, axis=0)\n",
    "            \n",
    "            # Find the corresponding speed\n",
    "            speed = df_conditions[df_conditions['#'] == condition]['Speed (mm/s)'].iloc[0]\n",
    "            \n",
    "            # Calculate mean and standard deviation\n",
    "            mean_value = np.mean(array_mean_line)\n",
    "            std_value = np.std(array_mean_line)\n",
    "            \n",
    "            mean_std_results[power][channel].append((speed, mean_value, std_value))\n",
    "\n",
    "mean_std_results\n"
   ]
  },
  {
   "cell_type": "code",
   "execution_count": null,
   "id": "2c57b5d8",
   "metadata": {},
   "outputs": [],
   "source": [
    "import matplotlib.pyplot as plt\n",
    "\n",
    "# Initialize the figure for visualization\n",
    "fig, axes = plt.subplots(len(mean_std_results), 2, figsize=(20, 4*len(mean_std_results)))\n",
    "\n",
    "# Loop through each power level and its corresponding mean and std results\n",
    "for idx, (power, mean_std_channel) in enumerate(mean_std_results.items()):\n",
    "    for channel_idx, channel in enumerate(['Optical Emission', 'Optical Reflection']):\n",
    "        mean_std_data = mean_std_channel[channel]\n",
    "        speeds = [speed for speed, _, _ in mean_std_data]\n",
    "        means = [mean for _, mean, _ in mean_std_data]\n",
    "        stds = [std for _, _, std in mean_std_data]\n",
    "        \n",
    "        # Generate the error bar plot\n",
    "        axes[idx, channel_idx].errorbar(speeds, means, yerr=stds, fmt='o-', label='Mean ± Std')\n",
    "        axes[idx, channel_idx].set_title(f'Mean and Std for {channel} at Power {int(power)} W')\n",
    "        axes[idx, channel_idx].set_xlabel('Speed (mm/s)')\n",
    "        axes[idx, channel_idx].set_ylabel('Value')\n",
    "        axes[idx, channel_idx].set_xlim([250, 1850])\n",
    "        axes[idx, channel_idx].legend()\n",
    "        axes[idx, channel_idx].grid()\n",
    "        \n",
    "\n",
    "plt.tight_layout()\n",
    "plt.show()\n"
   ]
  },
  {
   "cell_type": "code",
   "execution_count": null,
   "id": "09f86535",
   "metadata": {},
   "outputs": [],
   "source": [
    "def get_surface_area(power, speed, df):\n",
    "    \"\"\"\n",
    "    Function to get the surface area for a given power and speed from the DataFrame.\n",
    "\n",
    "    :param power: Power level (in Watts)\n",
    "    :param speed: Speed (in mm/s)\n",
    "    :param df: DataFrame containing the data\n",
    "    :return: Surface area corresponding to the given power and speed\n",
    "    \"\"\"\n",
    "    # Filter the DataFrame for the given power and speed\n",
    "    filtered_df = df[(df['Powers (W)'] == power) & (df['Speed (mm/s)'] == speed)]\n",
    "\n",
    "    # Check if there is an entry for the given power and speed\n",
    "    if not filtered_df.empty:\n",
    "        return filtered_df['Surface Area'].iloc[0]\n",
    "    else:\n",
    "        return \"No data available for the specified power and speed.\"\n",
    "\n",
    "# Testing the function with a power and speed from the DataFrame\n",
    "test_power = 120\n",
    "test_speed = 800\n",
    "surface_area_result = get_surface_area(test_power, test_speed, df_conditions)\n",
    "\n",
    "surface_area_result\n",
    "\n"
   ]
  },
  {
   "cell_type": "code",
   "execution_count": null,
   "id": "81e1de87",
   "metadata": {},
   "outputs": [],
   "source": [
    "import matplotlib.pyplot as plt\n",
    "\n",
    "# Initialize the figure for visualization\n",
    "fig, axes = plt.subplots(len(mean_std_results), 2, figsize=(20, 4*len(mean_std_results)))\n",
    "\n",
    "# Loop through each power level and its corresponding mean and std results\n",
    "for idx, (power, mean_std_channel) in enumerate(mean_std_results.items()):\n",
    "    # Filter the DataFrame for the current power level\n",
    "    df_filtered = df_conditions[df_conditions['Powers (W)'] == power]\n",
    "\n",
    "    for channel_idx, channel in enumerate(['Optical Emission', 'Optical Reflection']):\n",
    "        mean_std_data = mean_std_channel[channel]\n",
    "        speeds = [speed for speed, _, _ in mean_std_data]\n",
    "        means = [mean for _, mean, _ in mean_std_data]\n",
    "        stds = [std for _, _, std in mean_std_data]\n",
    "        \n",
    "        # Sort the DataFrame by speed and then retrieve surface area\n",
    "        df_sorted = df_filtered.sort_values('Speed (mm/s)')\n",
    "        surface_areas = df_sorted[df_sorted['Speed (mm/s)'].isin(speeds)]['Surface Area'].values\n",
    "\n",
    "\n",
    "        # Generate the error bar plot for mean and std\n",
    "        axes[idx, channel_idx].errorbar(speeds, means, yerr=stds, fmt='o-', label='Mean ± Std')\n",
    "        \n",
    "        # Add a secondary y-axis for surface area\n",
    "        ax2 = axes[idx, channel_idx].twinx()\n",
    "        ax2.plot(speeds, surface_areas, 'r^-', label='Surface Area')\n",
    "        ax2.set_ylabel('Surface Area', color='r')\n",
    "\n",
    "        # Set titles and labels\n",
    "        axes[idx, channel_idx].set_title(f'Mean and Std for {channel} at Power {int(power)} W')\n",
    "        axes[idx, channel_idx].set_xlabel('Speed (mm/s)')\n",
    "        axes[idx, channel_idx].set_ylabel('Value')\n",
    "        axes[idx, channel_idx].set_xlim([250, 1850])\n",
    "\n",
    "        # Add legends\n",
    "        axes[idx, channel_idx].legend(loc='upper left')\n",
    "        ax2.legend(loc='upper right')\n",
    "\n",
    "        # Add grid\n",
    "        axes[idx, channel_idx].grid()\n",
    "        \n",
    "plt.tight_layout()\n",
    "plt.show()\n"
   ]
  },
  {
   "cell_type": "code",
   "execution_count": null,
   "id": "f06ec738",
   "metadata": {},
   "outputs": [],
   "source": [
    "speeds"
   ]
  },
  {
   "cell_type": "code",
   "execution_count": null,
   "id": "1bb632b8",
   "metadata": {},
   "outputs": [],
   "source": [
    "df_filtered[df_filtered['Speed (mm/s)'].isin(speeds)]"
   ]
  },
  {
   "cell_type": "code",
   "execution_count": null,
   "id": "dad92d3e",
   "metadata": {},
   "outputs": [],
   "source": [
    "df_conditions "
   ]
  },
  {
   "cell_type": "code",
   "execution_count": null,
   "id": "7fb6ed4b",
   "metadata": {},
   "outputs": [],
   "source": [
    "from sklearn.preprocessing import StandardScaler\n",
    "from sklearn.linear_model import LinearRegression\n",
    "import numpy as np\n",
    "\n",
    "# Extracting the necessary data for mean optical emission and reflection from the DataFrame\n",
    "df_conditions['Mean Optical Emission'] = df_conditions.apply(\n",
    "    lambda row: np.mean(np.mean(condition_to_array_map[row['#']][0], axis=1)), axis=1)\n",
    "df_conditions['Mean Optical Reflection'] = df_conditions.apply(\n",
    "    lambda row: np.mean(np.mean(condition_to_array_map[row['#']][1], axis=1)), axis=1)\n",
    "\n"
   ]
  },
  {
   "cell_type": "code",
   "execution_count": null,
   "id": "70b2a317",
   "metadata": {},
   "outputs": [],
   "source": [
    "df_conditions"
   ]
  },
  {
   "cell_type": "code",
   "execution_count": null,
   "id": "31b6b05b",
   "metadata": {},
   "outputs": [],
   "source": [
    "# Identifying conditions with the same power but different speeds\n",
    "grouped_by_power = df_conditions.groupby('Powers (W)')\n"
   ]
  },
  {
   "cell_type": "code",
   "execution_count": null,
   "id": "4c27e573",
   "metadata": {},
   "outputs": [],
   "source": [
    "# Re-plotting the true surface area using the corrected mean values\n",
    "fig, axes = plt.subplots(len(grouped_by_power), 1, figsize=(10, 5*len(grouped_by_power)))\n",
    "\n",
    "# Ensure axes is an iterable (for a single plot case)\n",
    "if len(grouped_by_power) == 1:  \n",
    "    axes = [axes]\n",
    "\n",
    "# Loop through each power level\n",
    "for idx, (power, group) in enumerate(grouped_by_power):\n",
    "    # Plotting the actual surface area\n",
    "    axes[idx].plot(group['Speed (mm/s)'], group['Surface Area'], 'o-', label='Actual Surface Area')\n",
    "    \n",
    "    # Set titles and labels\n",
    "    axes[idx].set_title(f'Surface Area for Power {power} W')\n",
    "    axes[idx].set_xlabel('Speed (mm/s)')\n",
    "    axes[idx].set_ylabel('Surface Area')\n",
    "    axes[idx].legend()\n",
    "\n",
    "# Adjust layout\n",
    "plt.tight_layout()\n",
    "plt.show()\n"
   ]
  },
  {
   "cell_type": "code",
   "execution_count": null,
   "id": "d00e7276",
   "metadata": {},
   "outputs": [],
   "source": [
    "# Re-plotting with actual mean Optical Emission and Reflection values, using two different y-scales\n",
    "fig, axes = plt.subplots(len(grouped_by_power), 1, figsize=(10, 5 * len(grouped_by_power)))\n",
    "\n",
    "# Ensure axes is an iterable (for a single plot case)\n",
    "if len(grouped_by_power) == 1:\n",
    "    axes = [axes]\n",
    "\n",
    "# Loop through each power level\n",
    "for idx, (power, group) in enumerate(grouped_by_power):\n",
    "    # Sort the group by 'Speed (mm/s)'\n",
    "    group_sorted = group.sort_values(by='Speed (mm/s)')\n",
    "    \n",
    "    # Create a second y-axis for the optical reflection\n",
    "    ax2 = axes[idx].twinx()\n",
    "\n",
    "    # Plotting the actual mean Optical Emission with a line\n",
    "    axes[idx].plot(group_sorted['Speed (mm/s)'], group_sorted['Mean Optical Emission'], color='blue', label='Mean Optical Emission')\n",
    "\n",
    "    # Plotting the actual mean Optical Reflection on the second y-axis with a line\n",
    "    ax2.plot(group_sorted['Speed (mm/s)'], group_sorted['Mean Optical Reflection'], color='red', label='Mean Optical Reflection')\n",
    "\n",
    "    # Set titles and labels\n",
    "    axes[idx].set_title(f'Mean Optical Emission and Reflection for Power {power} W')\n",
    "    axes[idx].set_xlabel('Speed (mm/s)')\n",
    "    axes[idx].set_ylabel('Mean Optical Emission', color='blue')\n",
    "    ax2.set_ylabel('Mean Optical Reflection', color='red')\n",
    "\n",
    "    # Add legends\n",
    "    axes[idx].legend(loc='upper left')\n",
    "    ax2.legend(loc='upper right')\n",
    "\n",
    "# Adjust layout\n",
    "plt.tight_layout()\n",
    "plt.show()\n"
   ]
  },
  {
   "cell_type": "code",
   "execution_count": 2,
   "id": "31d8b3d5",
   "metadata": {},
   "outputs": [
    {
     "data": {
      "text/html": [
       "<div>\n",
       "<style scoped>\n",
       "    .dataframe tbody tr th:only-of-type {\n",
       "        vertical-align: middle;\n",
       "    }\n",
       "\n",
       "    .dataframe tbody tr th {\n",
       "        vertical-align: top;\n",
       "    }\n",
       "\n",
       "    .dataframe thead th {\n",
       "        text-align: right;\n",
       "    }\n",
       "</style>\n",
       "<table border=\"1\" class=\"dataframe\">\n",
       "  <thead>\n",
       "    <tr style=\"text-align: right;\">\n",
       "      <th></th>\n",
       "      <th>Speed (mm/s)</th>\n",
       "      <th>Powers (W)</th>\n",
       "      <th>Powers perc (%)</th>\n",
       "      <th>#</th>\n",
       "      <th>T_0 (°C)</th>\n",
       "      <th>Norm Speed</th>\n",
       "      <th>Norm Power</th>\n",
       "      <th>Norm T_0</th>\n",
       "      <th>Surface Area</th>\n",
       "    </tr>\n",
       "  </thead>\n",
       "  <tbody>\n",
       "    <tr>\n",
       "      <th>0</th>\n",
       "      <td>966.666667</td>\n",
       "      <td>106.666667</td>\n",
       "      <td>21.333333</td>\n",
       "      <td>1</td>\n",
       "      <td>27</td>\n",
       "      <td>-0.377778</td>\n",
       "      <td>1.333333</td>\n",
       "      <td>-1</td>\n",
       "      <td>0.014332</td>\n",
       "    </tr>\n",
       "    <tr>\n",
       "      <th>1</th>\n",
       "      <td>1633.333333</td>\n",
       "      <td>106.666667</td>\n",
       "      <td>21.333333</td>\n",
       "      <td>2</td>\n",
       "      <td>27</td>\n",
       "      <td>0.511111</td>\n",
       "      <td>1.333333</td>\n",
       "      <td>-1</td>\n",
       "      <td>0.008014</td>\n",
       "    </tr>\n",
       "    <tr>\n",
       "      <th>2</th>\n",
       "      <td>1466.666667</td>\n",
       "      <td>120.000000</td>\n",
       "      <td>24.000000</td>\n",
       "      <td>3</td>\n",
       "      <td>27</td>\n",
       "      <td>0.288889</td>\n",
       "      <td>2.000000</td>\n",
       "      <td>-1</td>\n",
       "      <td>0.011958</td>\n",
       "    </tr>\n",
       "    <tr>\n",
       "      <th>3</th>\n",
       "      <td>633.333333</td>\n",
       "      <td>120.000000</td>\n",
       "      <td>24.000000</td>\n",
       "      <td>4</td>\n",
       "      <td>27</td>\n",
       "      <td>-0.822222</td>\n",
       "      <td>2.000000</td>\n",
       "      <td>-1</td>\n",
       "      <td>0.022060</td>\n",
       "    </tr>\n",
       "    <tr>\n",
       "      <th>4</th>\n",
       "      <td>1800.000000</td>\n",
       "      <td>120.000000</td>\n",
       "      <td>24.000000</td>\n",
       "      <td>5</td>\n",
       "      <td>27</td>\n",
       "      <td>0.733333</td>\n",
       "      <td>2.000000</td>\n",
       "      <td>-1</td>\n",
       "      <td>0.007956</td>\n",
       "    </tr>\n",
       "    <tr>\n",
       "      <th>5</th>\n",
       "      <td>1133.333333</td>\n",
       "      <td>80.000000</td>\n",
       "      <td>16.000000</td>\n",
       "      <td>6</td>\n",
       "      <td>27</td>\n",
       "      <td>-0.155556</td>\n",
       "      <td>0.000000</td>\n",
       "      <td>-1</td>\n",
       "      <td>0.006504</td>\n",
       "    </tr>\n",
       "    <tr>\n",
       "      <th>6</th>\n",
       "      <td>800.000000</td>\n",
       "      <td>120.000000</td>\n",
       "      <td>24.000000</td>\n",
       "      <td>7</td>\n",
       "      <td>27</td>\n",
       "      <td>-0.600000</td>\n",
       "      <td>2.000000</td>\n",
       "      <td>-1</td>\n",
       "      <td>0.020028</td>\n",
       "    </tr>\n",
       "    <tr>\n",
       "      <th>7</th>\n",
       "      <td>1300.000000</td>\n",
       "      <td>93.333333</td>\n",
       "      <td>18.666667</td>\n",
       "      <td>8</td>\n",
       "      <td>27</td>\n",
       "      <td>0.066667</td>\n",
       "      <td>0.666667</td>\n",
       "      <td>-1</td>\n",
       "      <td>0.008435</td>\n",
       "    </tr>\n",
       "    <tr>\n",
       "      <th>8</th>\n",
       "      <td>1300.000000</td>\n",
       "      <td>80.000000</td>\n",
       "      <td>16.000000</td>\n",
       "      <td>9</td>\n",
       "      <td>27</td>\n",
       "      <td>0.066667</td>\n",
       "      <td>0.000000</td>\n",
       "      <td>-1</td>\n",
       "      <td>0.005786</td>\n",
       "    </tr>\n",
       "    <tr>\n",
       "      <th>9</th>\n",
       "      <td>633.333333</td>\n",
       "      <td>93.333333</td>\n",
       "      <td>18.666667</td>\n",
       "      <td>10</td>\n",
       "      <td>27</td>\n",
       "      <td>-0.822222</td>\n",
       "      <td>0.666667</td>\n",
       "      <td>-1</td>\n",
       "      <td>0.013068</td>\n",
       "    </tr>\n",
       "    <tr>\n",
       "      <th>10</th>\n",
       "      <td>633.333333</td>\n",
       "      <td>80.000000</td>\n",
       "      <td>16.000000</td>\n",
       "      <td>11</td>\n",
       "      <td>27</td>\n",
       "      <td>-0.822222</td>\n",
       "      <td>0.000000</td>\n",
       "      <td>-1</td>\n",
       "      <td>0.008690</td>\n",
       "    </tr>\n",
       "    <tr>\n",
       "      <th>11</th>\n",
       "      <td>966.666667</td>\n",
       "      <td>120.000000</td>\n",
       "      <td>24.000000</td>\n",
       "      <td>12</td>\n",
       "      <td>27</td>\n",
       "      <td>-0.377778</td>\n",
       "      <td>2.000000</td>\n",
       "      <td>-1</td>\n",
       "      <td>0.018002</td>\n",
       "    </tr>\n",
       "    <tr>\n",
       "      <th>12</th>\n",
       "      <td>1133.333333</td>\n",
       "      <td>106.666667</td>\n",
       "      <td>21.333333</td>\n",
       "      <td>13</td>\n",
       "      <td>27</td>\n",
       "      <td>-0.155556</td>\n",
       "      <td>1.333333</td>\n",
       "      <td>-1</td>\n",
       "      <td>0.012744</td>\n",
       "    </tr>\n",
       "    <tr>\n",
       "      <th>13</th>\n",
       "      <td>1466.666667</td>\n",
       "      <td>93.333333</td>\n",
       "      <td>18.666667</td>\n",
       "      <td>14</td>\n",
       "      <td>27</td>\n",
       "      <td>0.288889</td>\n",
       "      <td>0.666667</td>\n",
       "      <td>-1</td>\n",
       "      <td>0.007290</td>\n",
       "    </tr>\n",
       "    <tr>\n",
       "      <th>14</th>\n",
       "      <td>466.666667</td>\n",
       "      <td>93.333333</td>\n",
       "      <td>18.666667</td>\n",
       "      <td>15</td>\n",
       "      <td>27</td>\n",
       "      <td>-1.044444</td>\n",
       "      <td>0.666667</td>\n",
       "      <td>-1</td>\n",
       "      <td>0.014240</td>\n",
       "    </tr>\n",
       "    <tr>\n",
       "      <th>15</th>\n",
       "      <td>1633.333333</td>\n",
       "      <td>120.000000</td>\n",
       "      <td>24.000000</td>\n",
       "      <td>16</td>\n",
       "      <td>27</td>\n",
       "      <td>0.511111</td>\n",
       "      <td>2.000000</td>\n",
       "      <td>-1</td>\n",
       "      <td>0.009954</td>\n",
       "    </tr>\n",
       "    <tr>\n",
       "      <th>16</th>\n",
       "      <td>466.666667</td>\n",
       "      <td>106.666667</td>\n",
       "      <td>21.333333</td>\n",
       "      <td>17</td>\n",
       "      <td>27</td>\n",
       "      <td>-1.044444</td>\n",
       "      <td>1.333333</td>\n",
       "      <td>-1</td>\n",
       "      <td>0.019129</td>\n",
       "    </tr>\n",
       "    <tr>\n",
       "      <th>17</th>\n",
       "      <td>1133.333333</td>\n",
       "      <td>120.000000</td>\n",
       "      <td>24.000000</td>\n",
       "      <td>18</td>\n",
       "      <td>27</td>\n",
       "      <td>-0.155556</td>\n",
       "      <td>2.000000</td>\n",
       "      <td>-1</td>\n",
       "      <td>0.015982</td>\n",
       "    </tr>\n",
       "    <tr>\n",
       "      <th>18</th>\n",
       "      <td>800.000000</td>\n",
       "      <td>80.000000</td>\n",
       "      <td>16.000000</td>\n",
       "      <td>19</td>\n",
       "      <td>27</td>\n",
       "      <td>-0.600000</td>\n",
       "      <td>0.000000</td>\n",
       "      <td>-1</td>\n",
       "      <td>0.007956</td>\n",
       "    </tr>\n",
       "    <tr>\n",
       "      <th>19</th>\n",
       "      <td>300.000000</td>\n",
       "      <td>80.000000</td>\n",
       "      <td>16.000000</td>\n",
       "      <td>20</td>\n",
       "      <td>27</td>\n",
       "      <td>-1.266667</td>\n",
       "      <td>0.000000</td>\n",
       "      <td>-1</td>\n",
       "      <td>0.010175</td>\n",
       "    </tr>\n",
       "    <tr>\n",
       "      <th>20</th>\n",
       "      <td>466.666667</td>\n",
       "      <td>80.000000</td>\n",
       "      <td>16.000000</td>\n",
       "      <td>21</td>\n",
       "      <td>27</td>\n",
       "      <td>-1.044444</td>\n",
       "      <td>0.000000</td>\n",
       "      <td>-1</td>\n",
       "      <td>0.009430</td>\n",
       "    </tr>\n",
       "    <tr>\n",
       "      <th>21</th>\n",
       "      <td>1300.000000</td>\n",
       "      <td>106.666667</td>\n",
       "      <td>21.333333</td>\n",
       "      <td>22</td>\n",
       "      <td>27</td>\n",
       "      <td>0.066667</td>\n",
       "      <td>1.333333</td>\n",
       "      <td>-1</td>\n",
       "      <td>0.011162</td>\n",
       "    </tr>\n",
       "    <tr>\n",
       "      <th>22</th>\n",
       "      <td>1133.333333</td>\n",
       "      <td>93.333333</td>\n",
       "      <td>18.666667</td>\n",
       "      <td>23</td>\n",
       "      <td>27</td>\n",
       "      <td>-0.155556</td>\n",
       "      <td>0.666667</td>\n",
       "      <td>-1</td>\n",
       "      <td>0.009585</td>\n",
       "    </tr>\n",
       "    <tr>\n",
       "      <th>23</th>\n",
       "      <td>1300.000000</td>\n",
       "      <td>120.000000</td>\n",
       "      <td>24.000000</td>\n",
       "      <td>24</td>\n",
       "      <td>27</td>\n",
       "      <td>0.066667</td>\n",
       "      <td>2.000000</td>\n",
       "      <td>-1</td>\n",
       "      <td>0.013967</td>\n",
       "    </tr>\n",
       "    <tr>\n",
       "      <th>24</th>\n",
       "      <td>800.000000</td>\n",
       "      <td>106.666667</td>\n",
       "      <td>21.333333</td>\n",
       "      <td>25</td>\n",
       "      <td>27</td>\n",
       "      <td>-0.600000</td>\n",
       "      <td>1.333333</td>\n",
       "      <td>-1</td>\n",
       "      <td>0.015925</td>\n",
       "    </tr>\n",
       "    <tr>\n",
       "      <th>25</th>\n",
       "      <td>966.666667</td>\n",
       "      <td>93.333333</td>\n",
       "      <td>18.666667</td>\n",
       "      <td>26</td>\n",
       "      <td>27</td>\n",
       "      <td>-0.377778</td>\n",
       "      <td>0.666667</td>\n",
       "      <td>-1</td>\n",
       "      <td>0.010740</td>\n",
       "    </tr>\n",
       "    <tr>\n",
       "      <th>26</th>\n",
       "      <td>966.666667</td>\n",
       "      <td>80.000000</td>\n",
       "      <td>16.000000</td>\n",
       "      <td>27</td>\n",
       "      <td>27</td>\n",
       "      <td>-0.377778</td>\n",
       "      <td>0.000000</td>\n",
       "      <td>-1</td>\n",
       "      <td>0.007227</td>\n",
       "    </tr>\n",
       "    <tr>\n",
       "      <th>27</th>\n",
       "      <td>300.000000</td>\n",
       "      <td>93.333333</td>\n",
       "      <td>18.666667</td>\n",
       "      <td>28</td>\n",
       "      <td>27</td>\n",
       "      <td>-1.266667</td>\n",
       "      <td>0.666667</td>\n",
       "      <td>-1</td>\n",
       "      <td>0.015418</td>\n",
       "    </tr>\n",
       "    <tr>\n",
       "      <th>28</th>\n",
       "      <td>633.333333</td>\n",
       "      <td>106.666667</td>\n",
       "      <td>21.333333</td>\n",
       "      <td>29</td>\n",
       "      <td>27</td>\n",
       "      <td>-0.822222</td>\n",
       "      <td>1.333333</td>\n",
       "      <td>-1</td>\n",
       "      <td>0.017525</td>\n",
       "    </tr>\n",
       "    <tr>\n",
       "      <th>29</th>\n",
       "      <td>1466.666667</td>\n",
       "      <td>106.666667</td>\n",
       "      <td>21.333333</td>\n",
       "      <td>30</td>\n",
       "      <td>27</td>\n",
       "      <td>0.288889</td>\n",
       "      <td>1.333333</td>\n",
       "      <td>-1</td>\n",
       "      <td>0.009585</td>\n",
       "    </tr>\n",
       "    <tr>\n",
       "      <th>30</th>\n",
       "      <td>466.666667</td>\n",
       "      <td>120.000000</td>\n",
       "      <td>24.000000</td>\n",
       "      <td>31</td>\n",
       "      <td>27</td>\n",
       "      <td>-1.044444</td>\n",
       "      <td>2.000000</td>\n",
       "      <td>-1</td>\n",
       "      <td>0.024097</td>\n",
       "    </tr>\n",
       "    <tr>\n",
       "      <th>31</th>\n",
       "      <td>800.000000</td>\n",
       "      <td>93.333333</td>\n",
       "      <td>18.666667</td>\n",
       "      <td>32</td>\n",
       "      <td>27</td>\n",
       "      <td>-0.600000</td>\n",
       "      <td>0.666667</td>\n",
       "      <td>-1</td>\n",
       "      <td>0.011901</td>\n",
       "    </tr>\n",
       "  </tbody>\n",
       "</table>\n",
       "</div>"
      ],
      "text/plain": [
       "    Speed (mm/s)  Powers (W)  Powers perc (%)   #  T_0 (°C)  Norm Speed  \\\n",
       "0     966.666667  106.666667        21.333333   1        27   -0.377778   \n",
       "1    1633.333333  106.666667        21.333333   2        27    0.511111   \n",
       "2    1466.666667  120.000000        24.000000   3        27    0.288889   \n",
       "3     633.333333  120.000000        24.000000   4        27   -0.822222   \n",
       "4    1800.000000  120.000000        24.000000   5        27    0.733333   \n",
       "5    1133.333333   80.000000        16.000000   6        27   -0.155556   \n",
       "6     800.000000  120.000000        24.000000   7        27   -0.600000   \n",
       "7    1300.000000   93.333333        18.666667   8        27    0.066667   \n",
       "8    1300.000000   80.000000        16.000000   9        27    0.066667   \n",
       "9     633.333333   93.333333        18.666667  10        27   -0.822222   \n",
       "10    633.333333   80.000000        16.000000  11        27   -0.822222   \n",
       "11    966.666667  120.000000        24.000000  12        27   -0.377778   \n",
       "12   1133.333333  106.666667        21.333333  13        27   -0.155556   \n",
       "13   1466.666667   93.333333        18.666667  14        27    0.288889   \n",
       "14    466.666667   93.333333        18.666667  15        27   -1.044444   \n",
       "15   1633.333333  120.000000        24.000000  16        27    0.511111   \n",
       "16    466.666667  106.666667        21.333333  17        27   -1.044444   \n",
       "17   1133.333333  120.000000        24.000000  18        27   -0.155556   \n",
       "18    800.000000   80.000000        16.000000  19        27   -0.600000   \n",
       "19    300.000000   80.000000        16.000000  20        27   -1.266667   \n",
       "20    466.666667   80.000000        16.000000  21        27   -1.044444   \n",
       "21   1300.000000  106.666667        21.333333  22        27    0.066667   \n",
       "22   1133.333333   93.333333        18.666667  23        27   -0.155556   \n",
       "23   1300.000000  120.000000        24.000000  24        27    0.066667   \n",
       "24    800.000000  106.666667        21.333333  25        27   -0.600000   \n",
       "25    966.666667   93.333333        18.666667  26        27   -0.377778   \n",
       "26    966.666667   80.000000        16.000000  27        27   -0.377778   \n",
       "27    300.000000   93.333333        18.666667  28        27   -1.266667   \n",
       "28    633.333333  106.666667        21.333333  29        27   -0.822222   \n",
       "29   1466.666667  106.666667        21.333333  30        27    0.288889   \n",
       "30    466.666667  120.000000        24.000000  31        27   -1.044444   \n",
       "31    800.000000   93.333333        18.666667  32        27   -0.600000   \n",
       "\n",
       "    Norm Power  Norm T_0  Surface Area  \n",
       "0     1.333333        -1      0.014332  \n",
       "1     1.333333        -1      0.008014  \n",
       "2     2.000000        -1      0.011958  \n",
       "3     2.000000        -1      0.022060  \n",
       "4     2.000000        -1      0.007956  \n",
       "5     0.000000        -1      0.006504  \n",
       "6     2.000000        -1      0.020028  \n",
       "7     0.666667        -1      0.008435  \n",
       "8     0.000000        -1      0.005786  \n",
       "9     0.666667        -1      0.013068  \n",
       "10    0.000000        -1      0.008690  \n",
       "11    2.000000        -1      0.018002  \n",
       "12    1.333333        -1      0.012744  \n",
       "13    0.666667        -1      0.007290  \n",
       "14    0.666667        -1      0.014240  \n",
       "15    2.000000        -1      0.009954  \n",
       "16    1.333333        -1      0.019129  \n",
       "17    2.000000        -1      0.015982  \n",
       "18    0.000000        -1      0.007956  \n",
       "19    0.000000        -1      0.010175  \n",
       "20    0.000000        -1      0.009430  \n",
       "21    1.333333        -1      0.011162  \n",
       "22    0.666667        -1      0.009585  \n",
       "23    2.000000        -1      0.013967  \n",
       "24    1.333333        -1      0.015925  \n",
       "25    0.666667        -1      0.010740  \n",
       "26    0.000000        -1      0.007227  \n",
       "27    0.666667        -1      0.015418  \n",
       "28    1.333333        -1      0.017525  \n",
       "29    1.333333        -1      0.009585  \n",
       "30    2.000000        -1      0.024097  \n",
       "31    0.666667        -1      0.011901  "
      ]
     },
     "execution_count": 2,
     "metadata": {},
     "output_type": "execute_result"
    }
   ],
   "source": [
    "import pandas as pd\n",
    "import pickle\n",
    "from sklearn.model_selection import train_test_split\n",
    "from sklearn.preprocessing import PolynomialFeatures\n",
    "from sklearn.linear_model import LinearRegression\n",
    "from sklearn.metrics import mean_squared_error, r2_score\n",
    "\n",
    "# Load the pickle file containing the final data list\n",
    "with open('./Data/final_data_list_cube_5.pkl', 'rb') as f:\n",
    "    final_data_list = pickle.load(f)\n",
    "\n",
    "# Load the Excel file containing the parameters\n",
    "excel_path = './Parameters.xlsx'\n",
    "sheet_name = \"Cube 5\"\n",
    "\n",
    "# Read the Excel file into a DataFrame\n",
    "df_conditions = pd.read_excel(excel_path, sheet_name=sheet_name)\n",
    "\n",
    "df_conditions"
   ]
  },
  {
   "cell_type": "code",
   "execution_count": 5,
   "id": "b80fbc14",
   "metadata": {},
   "outputs": [
    {
     "data": {
      "text/plain": [
       "(32, 2)"
      ]
     },
     "execution_count": 5,
     "metadata": {},
     "output_type": "execute_result"
    }
   ],
   "source": [
    "import numpy as np\n",
    "# Initializing a list to store the final average values for each condition\n",
    "averages = []\n",
    "\n",
    "# Looping over each condition in final_data_list\n",
    "for data in final_data_list:\n",
    "    # Removing the first two lines (reducing from 10 to 8 lines)\n",
    "    reduced_data = data[:, 2:, :]\n",
    "\n",
    "    # Removing the last 10% of each line\n",
    "    cut_length = int(reduced_data.shape[2] * 0.9)\n",
    "    reduced_data = reduced_data[:, :, :cut_length]\n",
    "\n",
    "    # Calculating the median line (reducing from (2, 8, N) to (2, 1, N))\n",
    "    median_line = np.median(reduced_data, axis=1)\n",
    "\n",
    "    # Calculating the average (reducing from (2, 1, N) to (2, 1, 1))\n",
    "    average_values = np.mean(median_line, axis=1).reshape(2, 1)\n",
    "\n",
    "    # Appending the average values to the list\n",
    "    averages.append(average_values)\n",
    "\n",
    "# Converting the list of averages to a numpy array for easier handling\n",
    "averages_array = np.array(averages)\n",
    "\n",
    "# Creating new columns in the DataFrame for the average values of each channel\n",
    "df_conditions['Average Optical Emission'] = averages_array[:, 0, 0]\n",
    "df_conditions['Average Optical Reflection'] = averages_array[:, 1, 0]\n",
    "\n",
    "# Preparing the data for the polynomial regression model\n",
    "X = df_conditions[['Average Optical Emission', 'Average Optical Reflection']]\n",
    "y = df_conditions['Surface Area']\n",
    "\n",
    "X.shape\n",
    "\n"
   ]
  },
  {
   "cell_type": "code",
   "execution_count": 22,
   "id": "07c9918a",
   "metadata": {},
   "outputs": [
    {
     "data": {
      "text/plain": [
       "(8.16931713448664e-06, 0.6731639660853221)"
      ]
     },
     "execution_count": 22,
     "metadata": {},
     "output_type": "execute_result"
    }
   ],
   "source": [
    "# Splitting the data into training and testing sets\n",
    "X_train, X_test, y_train, y_test = train_test_split(X, y, test_size=0.4, random_state=42)\n",
    "\n",
    "# Creating polynomial features\n",
    "poly = PolynomialFeatures(degree=2)\n",
    "X_poly_train = poly.fit_transform(X_train)\n",
    "X_poly_test = poly.transform(X_test)\n",
    "\n",
    "# Building the regression model\n",
    "model = LinearRegression()\n",
    "model.fit(X_poly_train, y_train)\n",
    "\n",
    "# Predicting and evaluating the model\n",
    "y_pred = model.predict(X_poly_test)\n",
    "mse = mean_squared_error(y_test, y_pred)\n",
    "r2 = r2_score(y_test, y_pred)\n",
    "\n",
    "mse, r2\n"
   ]
  },
  {
   "cell_type": "code",
   "execution_count": 25,
   "id": "82188734",
   "metadata": {},
   "outputs": [
    {
     "data": {
      "text/plain": [
       "(19, 6)"
      ]
     },
     "execution_count": 25,
     "metadata": {},
     "output_type": "execute_result"
    }
   ],
   "source": [
    "X_poly_train.shape"
   ]
  },
  {
   "cell_type": "code",
   "execution_count": 23,
   "id": "7f4040c0",
   "metadata": {},
   "outputs": [
    {
     "data": {
      "text/plain": [
       "[<matplotlib.lines.Line2D at 0x7f310bea0100>]"
      ]
     },
     "execution_count": 23,
     "metadata": {},
     "output_type": "execute_result"
    },
    {
     "data": {
      "image/png": "[encoded data removed]",
      "text/plain": [
       "<Figure size 432x288 with 1 Axes>"
      ]
     },
     "metadata": {
      "needs_background": "light"
     },
     "output_type": "display_data"
    }
   ],
   "source": [
    "import matplotlib.pyplot as plt\n",
    "plt.plot(y_test.values)\n",
    "plt.plot(y_pred)"
   ]
  },
  {
   "cell_type": "code",
   "execution_count": 16,
   "id": "281c8c9d",
   "metadata": {},
   "outputs": [
    {
     "data": {
      "text/plain": [
       "29    0.009585\n",
       "15    0.009954\n",
       "24    0.015925\n",
       "17    0.015982\n",
       "8     0.005786\n",
       "9     0.013068\n",
       "30    0.024097\n",
       "Name: Surface Area, dtype: float64"
      ]
     },
     "execution_count": 16,
     "metadata": {},
     "output_type": "execute_result"
    }
   ],
   "source": [
    "y_test"
   ]
  },
  {
   "cell_type": "code",
   "execution_count": 33,
   "id": "05c63b7f",
   "metadata": {
    "scrolled": false
   },
   "outputs": [
    {
     "data": {
      "image/png": "[encoded data removed]",
      "text/plain": [
       "<Figure size 864x432 with 4 Axes>"
      ]
     },
     "metadata": {
      "needs_background": "light"
     },
     "output_type": "display_data"
    },
    {
     "data": {
      "image/png": "[encoded data removed]",
      "text/plain": [
       "<Figure size 864x432 with 4 Axes>"
      ]
     },
     "metadata": {
      "needs_background": "light"
     },
     "output_type": "display_data"
    },
    {
     "data": {
      "image/png": "[encoded data removed]",
      "text/plain": [
       "<Figure size 864x432 with 4 Axes>"
      ]
     },
     "metadata": {
      "needs_background": "light"
     },
     "output_type": "display_data"
    },
    {
     "data": {
      "image/png": "[encoded data removed]",
      "text/plain": [
       "<Figure size 864x432 with 4 Axes>"
      ]
     },
     "metadata": {
      "needs_background": "light"
     },
     "output_type": "display_data"
    }
   ],
   "source": [
    "import matplotlib.pyplot as plt\n",
    "\n",
    "# Creating polynomial features for prediction (including interaction term)\n",
    "poly_features = PolynomialFeatures(degree=2)\n",
    "X_full_poly = poly_features.fit_transform(X)\n",
    "\n",
    "# Predicting surface area for all data points\n",
    "df_conditions['Predicted Surface Area'] = model.predict(X_full_poly)\n",
    "\n",
    "# Unique power levels\n",
    "unique_powers = df_conditions['Powers (W)'].unique()\n",
    "\n",
    "for power in unique_powers:\n",
    "    # Filtering data by power and sorting by speed\n",
    "    df_power = df_conditions[df_conditions['Powers (W)'] == power].sort_values(by='Speed (mm/s)')\n",
    "\n",
    "    # Creating subplots\n",
    "    fig, (ax1, ax2) = plt.subplots(1, 2, figsize=(12, 6))\n",
    "\n",
    "    # Plotting Average Optical Emission vs. Speed\n",
    "    ax1.plot(df_power['Speed (mm/s)'], df_power['Average Optical Emission'], 'b-', label='Optical Emission')\n",
    "    ax1.set_xlabel('Speed (mm/s)')\n",
    "    ax1.set_ylabel('Average Optical Emission', color='b')\n",
    "    ax1.tick_params('y', colors='b')\n",
    "\n",
    "    # Twin axis for predicted and true surface area\n",
    "    ax1b = ax1.twinx()\n",
    "    ax1b.plot(df_power['Speed (mm/s)'], df_power['Predicted Surface Area'], 'r^', label='Predicted Surface Area')\n",
    "    ax1b.plot(df_power['Speed (mm/s)'], df_power['Surface Area'], 'ro', label='True Surface Area', alpha=0.5)\n",
    "    ax1b.set_ylabel('Surface Area', color='r')\n",
    "    ax1b.tick_params('y', colors='r')\n",
    "    ax1.set_title(f'Power: {power} W - Optical Emission')\n",
    "\n",
    "    # Plotting Average Optical Reflection vs. Speed\n",
    "    ax2.plot(df_power['Speed (mm/s)'], df_power['Average Optical Reflection'], 'g-', label='Optical Reflection')\n",
    "    ax2.set_xlabel('Speed (mm/s)')\n",
    "    ax2.set_ylabel('Average Optical Reflection', color='g')\n",
    "    ax2.tick_params('y', colors='g')\n",
    "\n",
    "    # Twin axis for predicted and true surface area\n",
    "    ax2b = ax2.twinx()\n",
    "    ax2b.plot(df_power['Speed (mm/s)'], df_power['Predicted Surface Area'], 'r^', label='Predicted Surface Area')\n",
    "    ax2b.plot(df_power['Speed (mm/s)'], df_power['Surface Area'], 'ro', label='True Surface Area', alpha=0.5)\n",
    "    ax2b.set_ylabel('Surface Area', color='r')\n",
    "    ax2b.tick_params('y', colors='r')\n",
    "    ax2.set_title(f'Power: {power} W - Optical Reflection')\n",
    "\n",
    "    # Adding legends\n",
    "    ax1.legend(loc='upper left')\n",
    "    ax1b.legend(loc='lower left')\n",
    "    ax2.legend(loc='upper left')\n",
    "    ax2b.legend(loc='lower left')\n",
    "\n",
    "    # Show the plot\n",
    "    plt.tight_layout()\n",
    "    plt.show()\n"
   ]
  },
  {
   "cell_type": "code",
   "execution_count": 29,
   "id": "18ec009c",
   "metadata": {},
   "outputs": [
    {
     "data": {
      "text/plain": [
       "7     1300.000000\n",
       "9      633.333333\n",
       "13    1466.666667\n",
       "14     466.666667\n",
       "22    1133.333333\n",
       "25     966.666667\n",
       "27     300.000000\n",
       "31     800.000000\n",
       "Name: Speed (mm/s), dtype: float64"
      ]
     },
     "execution_count": 29,
     "metadata": {},
     "output_type": "execute_result"
    }
   ],
   "source": [
    "df_power['Speed (mm/s)']"
   ]
  },
  {
   "cell_type": "code",
   "execution_count": 30,
   "id": "3a31f4ea",
   "metadata": {},
   "outputs": [
    {
     "data": {
      "text/plain": [
       "7     0.138755\n",
       "9     0.158486\n",
       "13    0.130552\n",
       "14    0.156411\n",
       "22    0.146888\n",
       "25    0.158072\n",
       "27    0.155300\n",
       "31    0.170454\n",
       "Name: Average Optical Emission, dtype: float64"
      ]
     },
     "execution_count": 30,
     "metadata": {},
     "output_type": "execute_result"
    }
   ],
   "source": [
    "df_power['Average Optical Emission']"
   ]
  },
  {
   "cell_type": "code",
   "execution_count": 28,
   "id": "4c09a44e",
   "metadata": {},
   "outputs": [
    {
     "ename": "ValueError",
     "evalue": "s must be a scalar, or float array-like with the same size as x and y",
     "output_type": "error",
     "traceback": [
      "\u001b[0;31m---------------------------------------------------------------------------\u001b[0m",
      "\u001b[0;31mValueError\u001b[0m                                Traceback (most recent call last)",
      "\u001b[0;32m/tmp/ipykernel_4373/3437877176.py\u001b[0m in \u001b[0;36m<module>\u001b[0;34m\u001b[0m\n\u001b[0;32m----> 1\u001b[0;31m \u001b[0mplt\u001b[0m\u001b[0;34m.\u001b[0m\u001b[0mscatter\u001b[0m\u001b[0;34m(\u001b[0m\u001b[0mdf_power\u001b[0m\u001b[0;34m[\u001b[0m\u001b[0;34m'Speed (mm/s)'\u001b[0m\u001b[0;34m]\u001b[0m\u001b[0;34m,\u001b[0m \u001b[0mdf_power\u001b[0m\u001b[0;34m[\u001b[0m\u001b[0;34m'Average Optical Emission'\u001b[0m\u001b[0;34m]\u001b[0m\u001b[0;34m,\u001b[0m \u001b[0;34m'b-'\u001b[0m\u001b[0;34m,\u001b[0m \u001b[0mlabel\u001b[0m\u001b[0;34m=\u001b[0m\u001b[0;34m'Optical Emission'\u001b[0m\u001b[0;34m)\u001b[0m\u001b[0;34m\u001b[0m\u001b[0;34m\u001b[0m\u001b[0m\n\u001b[0m",
      "\u001b[0;32m/usr/lib/python3/dist-packages/matplotlib/pyplot.py\u001b[0m in \u001b[0;36mscatter\u001b[0;34m(x, y, s, c, marker, cmap, norm, vmin, vmax, alpha, linewidths, edgecolors, plotnonfinite, data, **kwargs)\u001b[0m\n\u001b[1;32m   2805\u001b[0m         \u001b[0mvmin\u001b[0m\u001b[0;34m=\u001b[0m\u001b[0;32mNone\u001b[0m\u001b[0;34m,\u001b[0m \u001b[0mvmax\u001b[0m\u001b[0;34m=\u001b[0m\u001b[0;32mNone\u001b[0m\u001b[0;34m,\u001b[0m \u001b[0malpha\u001b[0m\u001b[0;34m=\u001b[0m\u001b[0;32mNone\u001b[0m\u001b[0;34m,\u001b[0m \u001b[0mlinewidths\u001b[0m\u001b[0;34m=\u001b[0m\u001b[0;32mNone\u001b[0m\u001b[0;34m,\u001b[0m \u001b[0;34m*\u001b[0m\u001b[0;34m,\u001b[0m\u001b[0;34m\u001b[0m\u001b[0;34m\u001b[0m\u001b[0m\n\u001b[1;32m   2806\u001b[0m         edgecolors=None, plotnonfinite=False, data=None, **kwargs):\n\u001b[0;32m-> 2807\u001b[0;31m     __ret = gca().scatter(\n\u001b[0m\u001b[1;32m   2808\u001b[0m         \u001b[0mx\u001b[0m\u001b[0;34m,\u001b[0m \u001b[0my\u001b[0m\u001b[0;34m,\u001b[0m \u001b[0ms\u001b[0m\u001b[0;34m=\u001b[0m\u001b[0ms\u001b[0m\u001b[0;34m,\u001b[0m \u001b[0mc\u001b[0m\u001b[0;34m=\u001b[0m\u001b[0mc\u001b[0m\u001b[0;34m,\u001b[0m \u001b[0mmarker\u001b[0m\u001b[0;34m=\u001b[0m\u001b[0mmarker\u001b[0m\u001b[0;34m,\u001b[0m \u001b[0mcmap\u001b[0m\u001b[0;34m=\u001b[0m\u001b[0mcmap\u001b[0m\u001b[0;34m,\u001b[0m \u001b[0mnorm\u001b[0m\u001b[0;34m=\u001b[0m\u001b[0mnorm\u001b[0m\u001b[0;34m,\u001b[0m\u001b[0;34m\u001b[0m\u001b[0;34m\u001b[0m\u001b[0m\n\u001b[1;32m   2809\u001b[0m         \u001b[0mvmin\u001b[0m\u001b[0;34m=\u001b[0m\u001b[0mvmin\u001b[0m\u001b[0;34m,\u001b[0m \u001b[0mvmax\u001b[0m\u001b[0;34m=\u001b[0m\u001b[0mvmax\u001b[0m\u001b[0;34m,\u001b[0m \u001b[0malpha\u001b[0m\u001b[0;34m=\u001b[0m\u001b[0malpha\u001b[0m\u001b[0;34m,\u001b[0m \u001b[0mlinewidths\u001b[0m\u001b[0;34m=\u001b[0m\u001b[0mlinewidths\u001b[0m\u001b[0;34m,\u001b[0m\u001b[0;34m\u001b[0m\u001b[0;34m\u001b[0m\u001b[0m\n",
      "\u001b[0;32m/usr/lib/python3/dist-packages/matplotlib/__init__.py\u001b[0m in \u001b[0;36minner\u001b[0;34m(ax, data, *args, **kwargs)\u001b[0m\n\u001b[1;32m   1414\u001b[0m     \u001b[0;32mdef\u001b[0m \u001b[0minner\u001b[0m\u001b[0;34m(\u001b[0m\u001b[0max\u001b[0m\u001b[0;34m,\u001b[0m \u001b[0;34m*\u001b[0m\u001b[0margs\u001b[0m\u001b[0;34m,\u001b[0m \u001b[0mdata\u001b[0m\u001b[0;34m=\u001b[0m\u001b[0;32mNone\u001b[0m\u001b[0;34m,\u001b[0m \u001b[0;34m**\u001b[0m\u001b[0mkwargs\u001b[0m\u001b[0;34m)\u001b[0m\u001b[0;34m:\u001b[0m\u001b[0;34m\u001b[0m\u001b[0;34m\u001b[0m\u001b[0m\n\u001b[1;32m   1415\u001b[0m         \u001b[0;32mif\u001b[0m \u001b[0mdata\u001b[0m \u001b[0;32mis\u001b[0m \u001b[0;32mNone\u001b[0m\u001b[0;34m:\u001b[0m\u001b[0;34m\u001b[0m\u001b[0;34m\u001b[0m\u001b[0m\n\u001b[0;32m-> 1416\u001b[0;31m             \u001b[0;32mreturn\u001b[0m \u001b[0mfunc\u001b[0m\u001b[0;34m(\u001b[0m\u001b[0max\u001b[0m\u001b[0;34m,\u001b[0m \u001b[0;34m*\u001b[0m\u001b[0mmap\u001b[0m\u001b[0;34m(\u001b[0m\u001b[0msanitize_sequence\u001b[0m\u001b[0;34m,\u001b[0m \u001b[0margs\u001b[0m\u001b[0;34m)\u001b[0m\u001b[0;34m,\u001b[0m \u001b[0;34m**\u001b[0m\u001b[0mkwargs\u001b[0m\u001b[0;34m)\u001b[0m\u001b[0;34m\u001b[0m\u001b[0;34m\u001b[0m\u001b[0m\n\u001b[0m\u001b[1;32m   1417\u001b[0m \u001b[0;34m\u001b[0m\u001b[0m\n\u001b[1;32m   1418\u001b[0m         \u001b[0mbound\u001b[0m \u001b[0;34m=\u001b[0m \u001b[0mnew_sig\u001b[0m\u001b[0;34m.\u001b[0m\u001b[0mbind\u001b[0m\u001b[0;34m(\u001b[0m\u001b[0max\u001b[0m\u001b[0;34m,\u001b[0m \u001b[0;34m*\u001b[0m\u001b[0margs\u001b[0m\u001b[0;34m,\u001b[0m \u001b[0;34m**\u001b[0m\u001b[0mkwargs\u001b[0m\u001b[0;34m)\u001b[0m\u001b[0;34m\u001b[0m\u001b[0;34m\u001b[0m\u001b[0m\n",
      "\u001b[0;32m/usr/lib/python3/dist-packages/matplotlib/axes/_axes.py\u001b[0m in \u001b[0;36mscatter\u001b[0;34m(self, x, y, s, c, marker, cmap, norm, vmin, vmax, alpha, linewidths, edgecolors, plotnonfinite, **kwargs)\u001b[0m\n\u001b[1;32m   4376\u001b[0m                 (not np.issubdtype(s.dtype, np.floating) and\n\u001b[1;32m   4377\u001b[0m                  not np.issubdtype(s.dtype, np.integer))):\n\u001b[0;32m-> 4378\u001b[0;31m             raise ValueError(\n\u001b[0m\u001b[1;32m   4379\u001b[0m                 \u001b[0;34m\"s must be a scalar, \"\u001b[0m\u001b[0;34m\u001b[0m\u001b[0;34m\u001b[0m\u001b[0m\n\u001b[1;32m   4380\u001b[0m                 \"or float array-like with the same size as x and y\")\n",
      "\u001b[0;31mValueError\u001b[0m: s must be a scalar, or float array-like with the same size as x and y"
     ]
    },
    {
     "data": {
      "image/png": "[encoded data removed]",
      "text/plain": [
       "<Figure size 432x288 with 1 Axes>"
      ]
     },
     "metadata": {
      "needs_background": "light"
     },
     "output_type": "display_data"
    }
   ],
   "source": [
    "plt.scatter(df_power['Speed (mm/s)'], df_power['Average Optical Emission'], 'b-', label='Optical Emission')\n"
   ]
  },
  {
   "cell_type": "code",
   "execution_count": null,
   "id": "c1fa3d0c",
   "metadata": {},
   "outputs": [],
   "source": []
  },
  {
   "cell_type": "code",
   "execution_count": null,
   "id": "526593a1",
   "metadata": {},
   "outputs": [],
   "source": []
  },
  {
   "cell_type": "code",
   "execution_count": null,
   "id": "b39919d6",
   "metadata": {},
   "outputs": [],
   "source": []
  },
  {
   "cell_type": "code",
   "execution_count": null,
   "id": "964a4e92",
   "metadata": {},
   "outputs": [],
   "source": []
  },
  {
   "cell_type": "code",
   "execution_count": null,
   "id": "399db8bd",
   "metadata": {},
   "outputs": [],
   "source": []
  },
  {
   "cell_type": "code",
   "execution_count": null,
   "id": "469ad98c",
   "metadata": {},
   "outputs": [],
   "source": []
  },
  {
   "cell_type": "code",
   "execution_count": null,
   "id": "c98bab80",
   "metadata": {},
   "outputs": [],
   "source": []
  },
  {
   "cell_type": "code",
   "execution_count": null,
   "id": "e0f8614c",
   "metadata": {},
   "outputs": [],
   "source": [
    "# Normalizing the features\n",
    "scaler = StandardScaler()\n",
    "X_normalized = scaler.fit_transform(X)\n",
    "\n",
    "# Preparing the data for polynomial regression\n",
    "# Adding squared terms and interaction term\n",
    "X_poly = np.hstack((\n",
    "    X_normalized, \n",
    "    X_normalized[:, 0].reshape(-1, 1) * X_normalized[:, 1].reshape(-1, 1),  # OE*OR interaction\n",
    "    X_normalized[:, 0].reshape(-1, 1)**2,  # OE^2\n",
    "    X_normalized[:, 1].reshape(-1, 1)**2   # OR^2\n",
    "))\n",
    "\n",
    "# Training the linear regression model on the polynomial features\n",
    "model = LinearRegression()\n",
    "model.fit(X_poly, y)\n",
    "\n",
    "# Coefficients for the linear, interaction, and squared terms\n",
    "coefficients = [model.intercept_] + list(model.coef_)\n",
    "\n",
    "coefficients\n"
   ]
  },
  {
   "cell_type": "code",
   "execution_count": null,
   "id": "9ed5ff38",
   "metadata": {},
   "outputs": [],
   "source": []
  },
  {
   "cell_type": "code",
   "execution_count": null,
   "id": "56cffd00",
   "metadata": {},
   "outputs": [],
   "source": [
    "# Loop through each power level\n",
    "for idx, (power, group) in enumerate(grouped_by_power):\n",
    "    break"
   ]
  },
  {
   "cell_type": "code",
   "execution_count": null,
   "id": "f42ba0d9",
   "metadata": {},
   "outputs": [],
   "source": [
    "group"
   ]
  },
  {
   "cell_type": "code",
   "execution_count": null,
   "id": "6405ca20",
   "metadata": {},
   "outputs": [],
   "source": [
    "plt.scatter(list(group['Speed (mm/s)'].values), list(group['Surface Area'].values))"
   ]
  },
  {
   "cell_type": "code",
   "execution_count": null,
   "id": "53f69bbd",
   "metadata": {},
   "outputs": [],
   "source": [
    "group['Surface Area'].values"
   ]
  },
  {
   "cell_type": "code",
   "execution_count": null,
   "id": "cf5fd93c",
   "metadata": {},
   "outputs": [],
   "source": [
    "list(group['Speed (mm/s)'].values)"
   ]
  },
  {
   "cell_type": "code",
   "execution_count": null,
   "id": "be8e6d69",
   "metadata": {},
   "outputs": [],
   "source": [
    "plt.plot(speeds, surface_areas, 'r^-', label='Surface Area')"
   ]
  },
  {
   "cell_type": "code",
   "execution_count": null,
   "id": "d35b4313",
   "metadata": {},
   "outputs": [],
   "source": [
    "speeds"
   ]
  },
  {
   "cell_type": "code",
   "execution_count": null,
   "id": "79a6fbfa",
   "metadata": {},
   "outputs": [],
   "source": [
    "surface_areas"
   ]
  },
  {
   "cell_type": "code",
   "execution_count": null,
   "id": "ad852a6d",
   "metadata": {},
   "outputs": [],
   "source": [
    "# Re-plotting the optical emission and reflection using corrected mean values\n",
    "fig, axes = plt.subplots(len(grouped_by_power), 1, figsize=(10, 5 * len(grouped_by_power)))\n",
    "\n",
    "# Ensure axes is an iterable (for a single plot case)\n",
    "if len(grouped_by_power) == 1:\n",
    "    axes = [axes]\n",
    "\n",
    "# Loop through each power level\n",
    "for idx, (power, group) in enumerate(grouped_by_power):\n",
    "    ax2 = axes[idx].twinx()  # Create a second y-axis for the optical reflection\n",
    "\n",
    "    # Plotting the mean optical emission and reflection on separate y-axes\n",
    "    emission_line, = axes[idx].scatter(group['Speed (mm/s)'], group['Mean Optical Emission'], 'o-', label='Mean Optical Emission', color='blue')\n",
    "    reflection_line, = ax2.scatter(group['Speed (mm/s)'], group['Mean Optical Reflection'], 'x-', label='Mean Optical Reflection', color='red')\n",
    "    \n",
    "    # Set titles and labels\n",
    "    axes[idx].set_title(f'Mean Optical Emission and Reflection for Power {power} W')\n",
    "    axes[idx].set_xlabel('Speed (mm/s)')\n",
    "    axes[idx].set_ylabel('Mean Optical Emission', color='blue')\n",
    "    ax2.set_ylabel('Mean Optical Reflection', color='red')\n",
    "    \n",
    "    # Adding legends\n",
    "    lines = [emission_line, reflection_line]\n",
    "    axes[idx].legend(lines, [l.get_label() for l in lines])\n",
    "\n",
    "# Adjust layout\n",
    "plt.tight_layout()\n",
    "plt.show()\n"
   ]
  },
  {
   "cell_type": "code",
   "execution_count": null,
   "id": "2d668421",
   "metadata": {},
   "outputs": [],
   "source": []
  }
 ],
 "metadata": {
  "kernelspec": {
   "display_name": "Python 3 (ipykernel)",
   "language": "python",
   "name": "python3"
  },
  "language_info": {
   "codemirror_mode": {
    "name": "ipython",
    "version": 3
   },
   "file_extension": ".py",
   "mimetype": "text/x-python",
   "name": "python",
   "nbconvert_exporter": "python",
   "pygments_lexer": "ipython3",
   "version": "3.10.12"
  }
 },
 "nbformat": 4,
 "nbformat_minor": 5
}
